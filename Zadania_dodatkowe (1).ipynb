{
  "nbformat": 4,
  "nbformat_minor": 0,
  "metadata": {
    "colab": {
      "provenance": []
    },
    "kernelspec": {
      "name": "python3",
      "display_name": "Python 3"
    },
    "language_info": {
      "name": "python"
    }
  },
  "cells": [
    {
      "cell_type": "markdown",
      "source": [
        "ZADANIA DLA CHETNYCH\n",
        "\n"
      ],
      "metadata": {
        "id": "6tPmc3BK-wDm"
      }
    },
    {
      "cell_type": "markdown",
      "source": [
        "**Zadanie 1.**\n",
        "\n",
        "a)\n",
        "1. Markus był człowiekiem.\n",
        "\n",
        "  Czlowiek(Markus)\n",
        "\n",
        "2. Markus był pompejańczykiem (obywatelem Pompejów).\n",
        "\n",
        "  Pompejanczyk(Markus)\n",
        "\n",
        "3. Wszyscy pompejańczycy byli Rzymianami.\n",
        "\n",
        "  ∀x(Pompejanczyk(x) -> Rzymianin(x))\n",
        "\n",
        "4. Cezar był władcą.\n",
        "\n",
        "  Wladca(Cezar)\n",
        "\n",
        "5. Wszyscy Rzymianie albo byli lojalni wobec Cezara, albo go nienawidzili.\n",
        "\n",
        "  ∀x(Rzymianin(x) -> (Lojalny(x, Cezar) V Nienawidzi(x, Cezar)))\n",
        "\n",
        "6. Każdy jest lojalny wobec kogoś.\n",
        "\n",
        "  ∀x∃y(Lojalny(x, y))\n",
        "\n",
        "7. Ludzie próbują dokonać zamachu tylko na tych władców, wobec których nie\n",
        "są lojalni.\n",
        "\n",
        "  ∀x∀y((Czlowiek(x) ∧ Wladca(y) ∧ Probujezamachu(x,y)) -> ~Lojalny(x,y))\n",
        "\n",
        "8. Markus próbował dokonać zamachu na Cezara.\n",
        "\n",
        "  Probujezamachu(Markus, Cezar)\n",
        "\n",
        "\n",
        "b) Wydaję mi się, że nie, ponieważ\n",
        " z tych predykatów: Probujezamachu(Markus, Cezar) i (Probujezamachu(x,y)) -> ~Lojalny(x,y)) jasno wynika, że Markus nie był lojalny wobec Cezara.\n",
        "\n",
        "\n",
        "\n",
        "c) ∀x∀y((Probujezamachu(x, y) ∧ Czlowiek(x) ∧ Wladca(y))\n",
        " -> ~ Lojalny(x, y)): ~ Probujezamachu(x, y)  V ~ Czlowiek(x) V ~Wladca(y) V ~ Lojalny(x, y)\n",
        "\n",
        " Probujezamachu(Markus, Cezar) - ta sama postać\n",
        "\n",
        "\n",
        "\n",
        "\n",
        "d) ~~Lojalny(Markus, Cezar)\n",
        "\n",
        "Poprzez rezolucję z Probujezamachu(Markus, Cezar) ∧ ~ Lojalny(Markus, Cezar) otrzymujemy sprzeczność.\n",
        "\n",
        "Markus nie był lojalny wobec Cezara.\n",
        "\n",
        "\n",
        "\n",
        "\n",
        "\n",
        "\n",
        "\n"
      ],
      "metadata": {
        "id": "84T01-IqqHlD"
      }
    },
    {
      "cell_type": "markdown",
      "source": [
        "**Zadanie 2.**\n",
        "\n",
        "a)\n",
        "1. Jan lubi każdy rodzaj pożywienia.\n",
        "\n",
        "  ∀x(Pozywienie(x) -> Lubi(Jan, z))\n",
        "\n",
        "2. Jabłka są pożywieniem.\n",
        "\n",
        "  Pozywnienie(jablka)\n",
        "\n",
        "3. Kurczak jest pożywieniem.\n",
        "\n",
        "  Pozywienie(kurczak)\n",
        "\n",
        "4. Cokolwiek, co ktokolwiek je i go nie zabija, jest pożywieniem.\n",
        "\n",
        "  ∀x∀y((Je(x, y) ∧ ~ Zabija(y, x)) -> Pozywienie(y))\n",
        "\n",
        "5. Adam je orzeszki i wciąż żyje.\n",
        "\n",
        "  Je(Adam, orzeszki) ∧ ~ Zabija(orzeszki, Adam)\n",
        "\n",
        "6. Basia je wszystko to, co Adam.\n",
        "\n",
        "  ∀x(Je(Adam, x) -> Je(Basia, x))\n",
        "\n",
        "b)\n",
        "\n",
        "~ Pozywienie(x) V Lubi(Jan, x)\n",
        "\n",
        "Pozywienie(jablko)\n",
        "\n",
        "Pozywienie(kurczak)\n",
        "\n",
        "~ Je(x, y) V Zabija(y, x) V Pozywnienie(y)\n",
        "\n",
        "Je(Adam, orzeszki)\n",
        "\n",
        "~ Zabija(orzeszki, Adam)\n",
        "\n",
        "~ Je(Adam, x) V Je(Basia, x)\n",
        "\n",
        "c)\n",
        "\n",
        "Je(Adam, orzeszki) ∧ ~ Zabija(orzeszki, Adam) -> Pozywienie(orzeszki) : Pozywienie(orzeszki)\n",
        "\n",
        "~ Pozywienie(orzeszki) V Lubi(Jan, orzeszki): Lubi(Jan, orzeszki)\n",
        "\n",
        "d)\n",
        "\n",
        "~ Je(Adam, x) V Je(Basia, x)\n",
        "\n",
        "Basia je wszytsko to, co Adam, czyli jabłka, kurczaka i orzeszki.\n",
        "\n",
        "Je(Adam, orzeszki) -> Je(Basia, orzeszki)\n",
        "Je(Adam, jablka) -> Je(Basia, jablka)\n",
        "Je(Adam, kurczak) -> Je(Basia, kurczak)"
      ],
      "metadata": {
        "id": "v2ZHsHTw-ULA"
      }
    },
    {
      "cell_type": "markdown",
      "source": [
        "\n",
        "**Zadanie 3.**\n",
        "\n",
        "Urodzony(Markus, 40)\n",
        "\n",
        "Znieszczenie(Pompeje, 79)\n",
        "\n",
        "∀x(Czlowiek(x) -> ~ Zyje(x, t), t > Urodzony(x) + 150)\n",
        "\n",
        "Markus urodził się w roku 40 n.e., a w 79 n.e. umarł w Pompejach. Nawet, jeśli by nie zginął, 150 + 40 = 190, czyli Markus nie żyje w 2021 roku.\n"
      ],
      "metadata": {
        "id": "T70QL-7O-s86"
      }
    },
    {
      "cell_type": "markdown",
      "source": [],
      "metadata": {
        "id": "me0HMf0q-cXU"
      }
    }
  ]
}